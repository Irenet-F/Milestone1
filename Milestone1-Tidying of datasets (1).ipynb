{
 "cells": [
  {
   "cell_type": "code",
   "execution_count": 53,
   "id": "5747db33",
   "metadata": {},
   "outputs": [],
   "source": [
    "import pandas as pd\n",
    "import seaborn as sns"
   ]
  },
  {
   "cell_type": "code",
   "execution_count": 54,
   "id": "970c8ee5",
   "metadata": {},
   "outputs": [
    {
     "data": {
      "text/html": [
       "<div>\n",
       "<style scoped>\n",
       "    .dataframe tbody tr th:only-of-type {\n",
       "        vertical-align: middle;\n",
       "    }\n",
       "\n",
       "    .dataframe tbody tr th {\n",
       "        vertical-align: top;\n",
       "    }\n",
       "\n",
       "    .dataframe thead th {\n",
       "        text-align: right;\n",
       "    }\n",
       "</style>\n",
       "<table border=\"1\" class=\"dataframe\">\n",
       "  <thead>\n",
       "    <tr style=\"text-align: right;\">\n",
       "      <th></th>\n",
       "      <th>Unnamed: 0</th>\n",
       "      <th>Applications by School</th>\n",
       "      <th>Unnamed: 2</th>\n",
       "      <th>In State</th>\n",
       "      <th>Out of State</th>\n",
       "      <th>Men</th>\n",
       "      <th>Women</th>\n",
       "      <th>Unnamed: 7</th>\n",
       "      <th>In State.1</th>\n",
       "      <th>Out of State.1</th>\n",
       "      <th>Men.1</th>\n",
       "      <th>Women.1</th>\n",
       "    </tr>\n",
       "  </thead>\n",
       "  <tbody>\n",
       "    <tr>\n",
       "      <th>0</th>\n",
       "      <td>State</td>\n",
       "      <td>Medical School</td>\n",
       "      <td>Applications^{1}</td>\n",
       "      <td>%</td>\n",
       "      <td>%</td>\n",
       "      <td>%</td>\n",
       "      <td>%</td>\n",
       "      <td>Matriculants</td>\n",
       "      <td>%</td>\n",
       "      <td>%</td>\n",
       "      <td>%</td>\n",
       "      <td>%</td>\n",
       "    </tr>\n",
       "    <tr>\n",
       "      <th>1</th>\n",
       "      <td>AL</td>\n",
       "      <td>Alabama</td>\n",
       "      <td>4,581</td>\n",
       "      <td>12.0</td>\n",
       "      <td>88.0</td>\n",
       "      <td>49.6</td>\n",
       "      <td>50.4</td>\n",
       "      <td>186</td>\n",
       "      <td>86.6</td>\n",
       "      <td>13.4</td>\n",
       "      <td>56.5</td>\n",
       "      <td>43.5</td>\n",
       "    </tr>\n",
       "    <tr>\n",
       "      <th>2</th>\n",
       "      <td>NaN</td>\n",
       "      <td>South Alabama</td>\n",
       "      <td>1,604</td>\n",
       "      <td>29.5</td>\n",
       "      <td>70.5</td>\n",
       "      <td>51.1</td>\n",
       "      <td>48.9</td>\n",
       "      <td>74</td>\n",
       "      <td>93.2</td>\n",
       "      <td>6.8</td>\n",
       "      <td>52.7</td>\n",
       "      <td>47.3</td>\n",
       "    </tr>\n",
       "    <tr>\n",
       "      <th>3</th>\n",
       "      <td>AR</td>\n",
       "      <td>Arkansas</td>\n",
       "      <td>2,405</td>\n",
       "      <td>14.2</td>\n",
       "      <td>85.8</td>\n",
       "      <td>51.9</td>\n",
       "      <td>48.1</td>\n",
       "      <td>173</td>\n",
       "      <td>92.5</td>\n",
       "      <td>7.5</td>\n",
       "      <td>53.8</td>\n",
       "      <td>46.2</td>\n",
       "    </tr>\n",
       "    <tr>\n",
       "      <th>4</th>\n",
       "      <td>AZ</td>\n",
       "      <td>Arizona</td>\n",
       "      <td>9,530</td>\n",
       "      <td>8.8</td>\n",
       "      <td>91.2</td>\n",
       "      <td>50.8</td>\n",
       "      <td>49.1</td>\n",
       "      <td>117</td>\n",
       "      <td>73.5</td>\n",
       "      <td>26.5</td>\n",
       "      <td>47.9</td>\n",
       "      <td>52.1</td>\n",
       "    </tr>\n",
       "  </tbody>\n",
       "</table>\n",
       "</div>"
      ],
      "text/plain": [
       "  Unnamed: 0 Applications by School        Unnamed: 2 In State Out of State  \\\n",
       "0      State         Medical School  Applications^{1}        %            %   \n",
       "1         AL                Alabama             4,581     12.0         88.0   \n",
       "2        NaN          South Alabama             1,604     29.5         70.5   \n",
       "3         AR               Arkansas             2,405     14.2         85.8   \n",
       "4         AZ                Arizona             9,530      8.8         91.2   \n",
       "\n",
       "    Men Women    Unnamed: 7 In State.1 Out of State.1 Men.1 Women.1  \n",
       "0     %     %  Matriculants          %              %     %       %  \n",
       "1  49.6  50.4           186       86.6           13.4  56.5    43.5  \n",
       "2  51.1  48.9            74       93.2            6.8  52.7    47.3  \n",
       "3  51.9  48.1           173       92.5            7.5  53.8    46.2  \n",
       "4  50.8  49.1           117       73.5           26.5  47.9    52.1  "
      ]
     },
     "execution_count": 54,
     "metadata": {},
     "output_type": "execute_result"
    }
   ],
   "source": [
    "df= pd.read_csv('MatricByState18.csv')\n",
    "df.head()"
   ]
  },
  {
   "cell_type": "markdown",
   "id": "7dd2c4a1",
   "metadata": {},
   "source": [
    "#checking the columns for any mistakes "
   ]
  },
  {
   "cell_type": "code",
   "execution_count": 55,
   "id": "3fc05507",
   "metadata": {},
   "outputs": [
    {
     "data": {
      "text/plain": [
       "Index(['Unnamed: 0', 'Applications by School', 'Unnamed: 2', 'In State',\n",
       "       'Out of State', 'Men', 'Women', 'Unnamed: 7', 'In State.1',\n",
       "       'Out of State.1', 'Men.1', 'Women.1'],\n",
       "      dtype='object')"
      ]
     },
     "execution_count": 55,
     "metadata": {},
     "output_type": "execute_result"
    }
   ],
   "source": [
    "df.columns"
   ]
  },
  {
   "cell_type": "markdown",
   "id": "89607063",
   "metadata": {},
   "source": [
    "#renaming columns"
   ]
  },
  {
   "cell_type": "code",
   "execution_count": 56,
   "id": "6d946cc6",
   "metadata": {},
   "outputs": [],
   "source": [
    "df.rename(columns= {\"Unnamed: 0\": \"States\"}, inplace=True)\n",
    "df.rename(columns={\"Unnamed: 2\": \"# of Applicants\"}, inplace=True)"
   ]
  },
  {
   "cell_type": "markdown",
   "id": "9955ccd2",
   "metadata": {},
   "source": [
    "#Checking that the columns are renamed properly"
   ]
  },
  {
   "cell_type": "code",
   "execution_count": 57,
   "id": "c0d8c4ff",
   "metadata": {},
   "outputs": [
    {
     "data": {
      "text/plain": [
       "Index(['States', 'Applications by School', '# of Applicants', 'In State',\n",
       "       'Out of State', 'Men', 'Women', 'Unnamed: 7', 'In State.1',\n",
       "       'Out of State.1', 'Men.1', 'Women.1'],\n",
       "      dtype='object')"
      ]
     },
     "execution_count": 57,
     "metadata": {},
     "output_type": "execute_result"
    }
   ],
   "source": [
    "df.columns"
   ]
  },
  {
   "cell_type": "markdown",
   "id": "319606de",
   "metadata": {},
   "source": [
    "#checking for missing values"
   ]
  },
  {
   "cell_type": "code",
   "execution_count": 58,
   "id": "d485bc96",
   "metadata": {},
   "outputs": [
    {
     "data": {
      "text/plain": [
       "States                    104\n",
       "Applications by School      1\n",
       "# of Applicants             0\n",
       "In State                    0\n",
       "Out of State                0\n",
       "Men                         0\n",
       "Women                       0\n",
       "Unnamed: 7                  0\n",
       "In State.1                  0\n",
       "Out of State.1              0\n",
       "Men.1                       0\n",
       "Women.1                     0\n",
       "dtype: int64"
      ]
     },
     "execution_count": 58,
     "metadata": {},
     "output_type": "execute_result"
    }
   ],
   "source": [
    "df.isnull().sum()"
   ]
  },
  {
   "cell_type": "markdown",
   "id": "a3b2bdd2",
   "metadata": {},
   "source": [
    "#Dropping the missing values to column \"Applications by School\""
   ]
  },
  {
   "cell_type": "code",
   "execution_count": 59,
   "id": "3a834745",
   "metadata": {},
   "outputs": [
    {
     "data": {
      "text/plain": [
       "States                    0\n",
       "Applications by School    0\n",
       "# of Applicants           0\n",
       "In State                  0\n",
       "Out of State              0\n",
       "Men                       0\n",
       "Women                     0\n",
       "Unnamed: 7                0\n",
       "In State.1                0\n",
       "Out of State.1            0\n",
       "Men.1                     0\n",
       "Women.1                   0\n",
       "dtype: int64"
      ]
     },
     "execution_count": 59,
     "metadata": {},
     "output_type": "execute_result"
    }
   ],
   "source": [
    "df1=df.dropna()\n",
    "df1.isnull().sum()"
   ]
  },
  {
   "cell_type": "markdown",
   "id": "4afa3ae8",
   "metadata": {},
   "source": [
    "#Checking for info within the dataset"
   ]
  },
  {
   "cell_type": "code",
   "execution_count": 60,
   "id": "15b9bec7",
   "metadata": {},
   "outputs": [
    {
     "data": {
      "text/plain": [
       "<bound method DataFrame.info of     States Applications by School   # of Applicants In State Out of State  \\\n",
       "0    State         Medical School  Applications^{1}        %            %   \n",
       "1       AL                Alabama             4,581     12.0         88.0   \n",
       "2      NaN          South Alabama             1,604     29.5         70.5   \n",
       "3       AR               Arkansas             2,405     14.2         85.8   \n",
       "4       AZ                Arizona             9,530      8.8         91.2   \n",
       "..     ...                    ...               ...      ...          ...   \n",
       "148     WI           MC Wisconsin             7,611      9.5         90.5   \n",
       "149    NaN              Wisconsin             5,458     12.4         87.6   \n",
       "150     WV       Marshall-Edwards             1,996      9.5         90.5   \n",
       "151    NaN          West Virginia             5,288      4.3         95.7   \n",
       "152  Total                    NaN           849,678     22.7         77.3   \n",
       "\n",
       "      Men Women    Unnamed: 7 In State.1 Out of State.1 Men.1 Women.1  \n",
       "0       %     %  Matriculants          %              %     %       %  \n",
       "1    49.6  50.4           186       86.6           13.4  56.5    43.5  \n",
       "2    51.1  48.9            74       93.2            6.8  52.7    47.3  \n",
       "3    51.9  48.1           173       92.5            7.5  53.8    46.2  \n",
       "4    50.8  49.1           117       73.5           26.5  47.9    52.1  \n",
       "..    ...   ...           ...        ...            ...   ...     ...  \n",
       "148  53.4  46.6           250       55.6           44.4  45.6    54.4  \n",
       "149  54.3  45.7           171       71.9           28.1  59.1    40.9  \n",
       "150  48.4  51.6            79       78.5           21.5  45.6    54.4  \n",
       "151  55.0  45.0           112       66.1           33.9  51.8    48.2  \n",
       "152  50.3  49.7        21,622       60.6           39.4  48.3    51.6  \n",
       "\n",
       "[153 rows x 12 columns]>"
      ]
     },
     "execution_count": 60,
     "metadata": {},
     "output_type": "execute_result"
    }
   ],
   "source": [
    "df.info"
   ]
  },
  {
   "cell_type": "code",
   "execution_count": 61,
   "id": "4d118da4",
   "metadata": {},
   "outputs": [
    {
     "data": {
      "text/plain": [
       "# of Applicants\n",
       "1,063               1\n",
       "1,065               1\n",
       "1,170               1\n",
       "1,388               1\n",
       "1,644               1\n",
       "1,996               1\n",
       "13,529              1\n",
       "14,004              1\n",
       "2,050               1\n",
       "2,251               1\n",
       "2,281               1\n",
       "2,405               1\n",
       "2,419               1\n",
       "2,660               1\n",
       "2,671               1\n",
       "3,107               1\n",
       "3,155               1\n",
       "3,379               1\n",
       "3,871               1\n",
       "4,227               1\n",
       "4,294               1\n",
       "4,581               1\n",
       "4,873               1\n",
       "446                 1\n",
       "5,590               1\n",
       "5,607               1\n",
       "6,245               1\n",
       "6,322               1\n",
       "6,522               1\n",
       "6,645               1\n",
       "6,690               1\n",
       "6,956               1\n",
       "6,988               1\n",
       "7,178               1\n",
       "7,199               1\n",
       "7,209               1\n",
       "7,347               1\n",
       "7,611               1\n",
       "7,618               1\n",
       "8,141               1\n",
       "824                 1\n",
       "9,021               1\n",
       "9,024               1\n",
       "9,132               1\n",
       "9,440               1\n",
       "9,530               1\n",
       "9,889               1\n",
       "Applications^{1}    1\n",
       "Name: # of Applicants, dtype: int64"
      ]
     },
     "execution_count": 61,
     "metadata": {},
     "output_type": "execute_result"
    }
   ],
   "source": [
    "df1.groupby('# of Applicants')['# of Applicants'].agg(\"count\")"
   ]
  },
  {
   "cell_type": "code",
   "execution_count": 62,
   "id": "69ae888c",
   "metadata": {},
   "outputs": [
    {
     "data": {
      "text/plain": [
       "<bound method Series.unique of 0      Applications^{1}\n",
       "1                 4,581\n",
       "2                 1,604\n",
       "3                 2,405\n",
       "4                 9,530\n",
       "             ...       \n",
       "148               7,611\n",
       "149               5,458\n",
       "150               1,996\n",
       "151               5,288\n",
       "152             849,678\n",
       "Name: # of Applicants, Length: 153, dtype: object>"
      ]
     },
     "execution_count": 62,
     "metadata": {},
     "output_type": "execute_result"
    }
   ],
   "source": [
    "df['# of Applicants'].unique"
   ]
  },
  {
   "cell_type": "markdown",
   "id": "6486ad1e",
   "metadata": {},
   "source": [
    "#checking for duplicates in the dataset"
   ]
  },
  {
   "cell_type": "code",
   "execution_count": 67,
   "id": "84b724a5",
   "metadata": {},
   "outputs": [
    {
     "data": {
      "text/plain": [
       "0"
      ]
     },
     "execution_count": 67,
     "metadata": {},
     "output_type": "execute_result"
    }
   ],
   "source": [
    "df1.duplicated().sum()"
   ]
  },
  {
   "cell_type": "markdown",
   "id": "640d657b",
   "metadata": {},
   "source": [
    "#The dataset looks satisfactory to me. No duplicates, and missing values removed. Now saving the tidy dataset to csv format"
   ]
  },
  {
   "cell_type": "code",
   "execution_count": 70,
   "id": "24edfab4",
   "metadata": {},
   "outputs": [],
   "source": [
    "df1.to_csv(\"Cleaned_MatricByState18.csv\")"
   ]
  },
  {
   "cell_type": "markdown",
   "id": "d011ab48",
   "metadata": {},
   "source": [
    "So far, I feel very behind on this project since most of my time had to be spent catching up and understanding earlier concepts in the course. BUT I feel very hopeful. The more that I play around with the dataset as I'm learning how to tidy data, the more that the lessons are coming together for me.\n",
    "\n",
    "This is just one of the many datasets that I must prepare for my final project. Right now, I see that tidying the data is going to be the most time-consuming part. And the graphs will be pretty simple. With that said, that's why I wanted to make sure that I show what I've learned and apply it to the earlier part of my work since my audience truly wants something simple without all the bells and whistles. I fear that my project will not look as elaborate as the rest of my classmates, although I will try to make it as appealing as possible. I have a long way to go before I'm done, so I'm embracing my adaptability as I'm sure this will be something that will come up in real-life situations in my career, where I have a short amount of time to make something amazing and presentable.\n"
   ]
  },
  {
   "cell_type": "code",
   "execution_count": null,
   "id": "ebdb038a",
   "metadata": {},
   "outputs": [],
   "source": []
  }
 ],
 "metadata": {
  "kernelspec": {
   "display_name": "Python 3 (ipykernel)",
   "language": "python",
   "name": "python3"
  },
  "language_info": {
   "codemirror_mode": {
    "name": "ipython",
    "version": 3
   },
   "file_extension": ".py",
   "mimetype": "text/x-python",
   "name": "python",
   "nbconvert_exporter": "python",
   "pygments_lexer": "ipython3",
   "version": "3.11.5"
  }
 },
 "nbformat": 4,
 "nbformat_minor": 5
}
